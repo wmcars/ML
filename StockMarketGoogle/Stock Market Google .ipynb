{
 "cells": [
  {
   "cell_type": "code",
   "execution_count": 1,
   "metadata": {},
   "outputs": [],
   "source": [
    "# Importing the libraries\n",
    "import numpy as np\n",
    "import matplotlib.pyplot as plt\n",
    "import pandas as pd\n",
    "import datetime"
   ]
  },
  {
   "cell_type": "code",
   "execution_count": 2,
   "metadata": {},
   "outputs": [],
   "source": [
    "dataset = pd.read_csv('Google_Stock_Price_Train.csv',index_col=\"Date\",parse_dates=True)"
   ]
  },
  {
   "cell_type": "code",
   "execution_count": 3,
   "metadata": {},
   "outputs": [
    {
     "data": {
      "text/html": [
       "<div>\n",
       "<style scoped>\n",
       "    .dataframe tbody tr th:only-of-type {\n",
       "        vertical-align: middle;\n",
       "    }\n",
       "\n",
       "    .dataframe tbody tr th {\n",
       "        vertical-align: top;\n",
       "    }\n",
       "\n",
       "    .dataframe thead th {\n",
       "        text-align: right;\n",
       "    }\n",
       "</style>\n",
       "<table border=\"1\" class=\"dataframe\">\n",
       "  <thead>\n",
       "    <tr style=\"text-align: right;\">\n",
       "      <th></th>\n",
       "      <th>Open</th>\n",
       "      <th>High</th>\n",
       "      <th>Low</th>\n",
       "      <th>Close</th>\n",
       "      <th>Volume</th>\n",
       "    </tr>\n",
       "    <tr>\n",
       "      <th>Date</th>\n",
       "      <th></th>\n",
       "      <th></th>\n",
       "      <th></th>\n",
       "      <th></th>\n",
       "      <th></th>\n",
       "    </tr>\n",
       "  </thead>\n",
       "  <tbody>\n",
       "    <tr>\n",
       "      <th>2014-03-27</th>\n",
       "      <td>566.44</td>\n",
       "      <td>566.44</td>\n",
       "      <td>551.41</td>\n",
       "      <td>556.93</td>\n",
       "      <td>13,100</td>\n",
       "    </tr>\n",
       "    <tr>\n",
       "      <th>2014-03-28</th>\n",
       "      <td>559.66</td>\n",
       "      <td>564.88</td>\n",
       "      <td>557.14</td>\n",
       "      <td>558.46</td>\n",
       "      <td>41,200</td>\n",
       "    </tr>\n",
       "    <tr>\n",
       "      <th>2014-03-31</th>\n",
       "      <td>565.34</td>\n",
       "      <td>565.45</td>\n",
       "      <td>555.41</td>\n",
       "      <td>555.45</td>\n",
       "      <td>10,800</td>\n",
       "    </tr>\n",
       "    <tr>\n",
       "      <th>2014-04-01</th>\n",
       "      <td>557.18</td>\n",
       "      <td>566.89</td>\n",
       "      <td>557.18</td>\n",
       "      <td>565.61</td>\n",
       "      <td>7,900</td>\n",
       "    </tr>\n",
       "    <tr>\n",
       "      <th>2014-04-02</th>\n",
       "      <td>598.35</td>\n",
       "      <td>603.17</td>\n",
       "      <td>560.65</td>\n",
       "      <td>565.45</td>\n",
       "      <td>147,100</td>\n",
       "    </tr>\n",
       "  </tbody>\n",
       "</table>\n",
       "</div>"
      ],
      "text/plain": [
       "              Open    High     Low   Close   Volume\n",
       "Date                                               \n",
       "2014-03-27  566.44  566.44  551.41  556.93   13,100\n",
       "2014-03-28  559.66  564.88  557.14  558.46   41,200\n",
       "2014-03-31  565.34  565.45  555.41  555.45   10,800\n",
       "2014-04-01  557.18  566.89  557.18  565.61    7,900\n",
       "2014-04-02  598.35  603.17  560.65  565.45  147,100"
      ]
     },
     "execution_count": 3,
     "metadata": {},
     "output_type": "execute_result"
    }
   ],
   "source": [
    "dataset.head()\n"
   ]
  },
  {
   "cell_type": "code",
   "execution_count": 4,
   "metadata": {},
   "outputs": [
    {
     "data": {
      "text/plain": [
       "Open      False\n",
       "High      False\n",
       "Low       False\n",
       "Close     False\n",
       "Volume    False\n",
       "dtype: bool"
      ]
     },
     "execution_count": 4,
     "metadata": {},
     "output_type": "execute_result"
    }
   ],
   "source": [
    "dataset.isna().any()"
   ]
  },
  {
   "cell_type": "code",
   "execution_count": 5,
   "metadata": {},
   "outputs": [
    {
     "name": "stdout",
     "output_type": "stream",
     "text": [
      "<class 'pandas.core.frame.DataFrame'>\n",
      "DatetimeIndex: 698 entries, 2014-03-27 to 2016-12-30\n",
      "Data columns (total 5 columns):\n",
      "Open      698 non-null float64\n",
      "High      698 non-null float64\n",
      "Low       698 non-null float64\n",
      "Close     698 non-null float64\n",
      "Volume    698 non-null object\n",
      "dtypes: float64(4), object(1)\n",
      "memory usage: 32.7+ KB\n"
     ]
    }
   ],
   "source": [
    "dataset.info()"
   ]
  },
  {
   "cell_type": "code",
   "execution_count": 6,
   "metadata": {},
   "outputs": [],
   "source": [
    "dataset[\"Volume\"] = dataset[\"Volume\"].str.replace(',', '').astype(float)"
   ]
  },
  {
   "cell_type": "code",
   "execution_count": 7,
   "metadata": {},
   "outputs": [],
   "source": [
    "#training_set=dataset['Open']\n",
    "training_set=dataset[:]\n",
    "training_set=pd.DataFrame(training_set[0:-1])"
   ]
  },
  {
   "cell_type": "code",
   "execution_count": 8,
   "metadata": {},
   "outputs": [
    {
     "data": {
      "text/plain": [
       "Open      False\n",
       "High      False\n",
       "Low       False\n",
       "Close     False\n",
       "Volume    False\n",
       "dtype: bool"
      ]
     },
     "execution_count": 8,
     "metadata": {},
     "output_type": "execute_result"
    }
   ],
   "source": [
    "training_set.isna().any()"
   ]
  },
  {
   "cell_type": "code",
   "execution_count": 9,
   "metadata": {},
   "outputs": [
    {
     "data": {
      "text/plain": [
       "(697, 5)"
      ]
     },
     "execution_count": 9,
     "metadata": {},
     "output_type": "execute_result"
    }
   ],
   "source": [
    "training_set.shape"
   ]
  },
  {
   "cell_type": "code",
   "execution_count": 10,
   "metadata": {},
   "outputs": [],
   "source": [
    "# Feature Scaling\n",
    "from sklearn.preprocessing import MinMaxScaler\n",
    "sc = MinMaxScaler(feature_range = (0, 1))\n",
    "training_set_scaled = sc.fit_transform(training_set)"
   ]
  },
  {
   "cell_type": "code",
   "execution_count": 11,
   "metadata": {},
   "outputs": [
    {
     "data": {
      "text/plain": [
       "array([[2.26173542e-01, 2.23001925e-01, 2.04383682e-01, 2.04187506e-01,\n",
       "        4.66075110e-04],\n",
       "       [2.05207496e-01, 2.18158107e-01, 2.22351134e-01, 2.08940387e-01,\n",
       "        2.98467330e-03],\n",
       "       [2.22771971e-01, 2.19927964e-01, 2.16926406e-01, 1.99589948e-01,\n",
       "        2.59926504e-04],\n",
       "       ...,\n",
       "       [9.19599233e-01, 9.41563684e-01, 9.45188298e-01, 9.33024758e-01,\n",
       "        7.00188223e-02],\n",
       "       [9.28938091e-01, 9.30292492e-01, 9.31203161e-01, 9.12832779e-01,\n",
       "        1.02706821e-01],\n",
       "       [8.96870555e-01, 9.04520897e-01, 9.17782446e-01, 9.05812184e-01,\n",
       "        6.60034059e-02]])"
      ]
     },
     "execution_count": 11,
     "metadata": {},
     "output_type": "execute_result"
    }
   ],
   "source": [
    "training_set_scaled"
   ]
  },
  {
   "cell_type": "code",
   "execution_count": 12,
   "metadata": {},
   "outputs": [
    {
     "data": {
      "text/plain": [
       "(697, 5)"
      ]
     },
     "execution_count": 12,
     "metadata": {},
     "output_type": "execute_result"
    }
   ],
   "source": [
    "training_set_scaled.shape"
   ]
  },
  {
   "cell_type": "code",
   "execution_count": 13,
   "metadata": {},
   "outputs": [],
   "source": [
    "# Creating a data structure with 60 timesteps and 1 output\n",
    "X_train = []\n",
    "y_train = []\n",
    "for i in range(60, 697):\n",
    "    X_train.append(training_set_scaled[i-60:i, :])\n",
    "    y_train.append(training_set_scaled[i, 0:1])\n",
    "X_train, y_train = np.array(X_train), np.array(y_train)\n"
   ]
  },
  {
   "cell_type": "code",
   "execution_count": 14,
   "metadata": {},
   "outputs": [
    {
     "data": {
      "text/plain": [
       "(637, 60, 5)"
      ]
     },
     "execution_count": 14,
     "metadata": {},
     "output_type": "execute_result"
    }
   ],
   "source": [
    "X_train.shape"
   ]
  },
  {
   "cell_type": "code",
   "execution_count": 15,
   "metadata": {},
   "outputs": [
    {
     "data": {
      "text/plain": [
       "(637, 1)"
      ]
     },
     "execution_count": 15,
     "metadata": {},
     "output_type": "execute_result"
    }
   ],
   "source": [
    "y_train.shape"
   ]
  },
  {
   "cell_type": "code",
   "execution_count": 16,
   "metadata": {},
   "outputs": [],
   "source": [
    "\n",
    "# Reshaping\n",
    "#X_train = np.reshape(X_train, (X_train.shape[0], X_train.shape[1], 1))"
   ]
  },
  {
   "cell_type": "code",
   "execution_count": 17,
   "metadata": {},
   "outputs": [
    {
     "name": "stderr",
     "output_type": "stream",
     "text": [
      "Using TensorFlow backend.\n"
     ]
    }
   ],
   "source": [
    "# Part 2 - Building the RNN\n",
    "\n",
    "# Importing the Keras libraries and packages\n",
    "from keras.models import Sequential\n",
    "from keras.layers import Dense\n",
    "from keras.layers import LSTM\n",
    "from keras.layers import Dropout\n",
    "\n"
   ]
  },
  {
   "cell_type": "code",
   "execution_count": 18,
   "metadata": {},
   "outputs": [],
   "source": [
    "# Initialising the RNN\n",
    "regressor = Sequential()\n",
    "\n"
   ]
  },
  {
   "cell_type": "code",
   "execution_count": 19,
   "metadata": {},
   "outputs": [
    {
     "data": {
      "text/plain": [
       "(60, 5)"
      ]
     },
     "execution_count": 19,
     "metadata": {},
     "output_type": "execute_result"
    }
   ],
   "source": [
    "X_train.shape[1], X_train.shape[2]"
   ]
  },
  {
   "cell_type": "code",
   "execution_count": 20,
   "metadata": {},
   "outputs": [],
   "source": [
    "# Adding the first LSTM layer and some Dropout regularisation\n",
    "regressor.add(LSTM(units = 100, return_sequences = True, input_shape = (X_train.shape[1], X_train.shape[2])))\n",
    "regressor.add(Dropout(0.2))\n",
    "\n",
    "# Adding a second LSTM layer and some Dropout regularisation\n",
    "regressor.add(LSTM(units = 100, return_sequences = True))\n",
    "regressor.add(Dropout(0.2))\n",
    "\n",
    "# Adding a third LSTM layer and some Dropout regularisation\n",
    "regressor.add(LSTM(units = 100, return_sequences = True))\n",
    "regressor.add(Dropout(0.2))\n",
    "\n",
    "# Adding a fourth LSTM layer and some Dropout regularisation\n",
    "regressor.add(LSTM(units = 100))\n",
    "regressor.add(Dropout(0.2))\n",
    "\n",
    "# Adding the output layer\n",
    "regressor.add(Dense(units = 1))\n",
    "\n"
   ]
  },
  {
   "cell_type": "code",
   "execution_count": 21,
   "metadata": {},
   "outputs": [
    {
     "name": "stdout",
     "output_type": "stream",
     "text": [
      "Epoch 1/3\n",
      "637/637 [==============================] - 70s 110ms/step - loss: 0.0562\n",
      "Epoch 2/3\n",
      "637/637 [==============================] - 45s 70ms/step - loss: 0.0104\n",
      "Epoch 3/3\n",
      "637/637 [==============================] - 27s 43ms/step - loss: 0.0090\n"
     ]
    },
    {
     "data": {
      "text/plain": [
       "<keras.callbacks.History at 0x1a352e7198>"
      ]
     },
     "execution_count": 21,
     "metadata": {},
     "output_type": "execute_result"
    }
   ],
   "source": [
    "# Compiling the RNN\n",
    "regressor.compile(optimizer = 'adam', loss = 'mean_squared_error')\n",
    "\n",
    "# Fitting the RNN to the Training set\n",
    "regressor.fit(X_train, y_train, epochs = 3, batch_size = 32)"
   ]
  },
  {
   "cell_type": "code",
   "execution_count": 22,
   "metadata": {},
   "outputs": [],
   "source": [
    "# Getting the real stock price of 2017\n",
    "dataset_test = pd.read_csv('Google_Stock_Price_Test.csv',index_col=\"Date\",parse_dates=True)\n",
    "real_stock_price = dataset_test.iloc[:, 0:1].values"
   ]
  },
  {
   "cell_type": "code",
   "execution_count": 23,
   "metadata": {},
   "outputs": [],
   "source": [
    "dataset_test[\"Volume\"] = dataset_test[\"Volume\"].str.replace(',', '').astype(float)"
   ]
  },
  {
   "cell_type": "code",
   "execution_count": 24,
   "metadata": {},
   "outputs": [],
   "source": [
    "# Getting the predicted stock price\n",
    "dataset_total = pd.concat((dataset, dataset_test), axis = 0)\n",
    "inputs = dataset_total[len(dataset_total) - len(dataset_test) - 60:].values\n",
    "inputs = inputs.reshape(-1,5)"
   ]
  },
  {
   "cell_type": "code",
   "execution_count": 25,
   "metadata": {},
   "outputs": [],
   "source": [
    "inputs = sc.transform(inputs)\n",
    "X_test = []\n",
    "for i in range(60, 80):\n",
    "    X_test.append(inputs[i-60:i, 0:5])\n",
    "X_test = np.array(X_test)\n",
    "#X_test = np.reshape(X_test, (X_test.shape[0], X_test.shape[1], 5))"
   ]
  },
  {
   "cell_type": "code",
   "execution_count": 26,
   "metadata": {},
   "outputs": [
    {
     "data": {
      "text/plain": [
       "(20, 60, 5)"
      ]
     },
     "execution_count": 26,
     "metadata": {},
     "output_type": "execute_result"
    }
   ],
   "source": [
    "X_test.shape"
   ]
  },
  {
   "cell_type": "code",
   "execution_count": 27,
   "metadata": {},
   "outputs": [
    {
     "data": {
      "text/plain": [
       "(80, 5)"
      ]
     },
     "execution_count": 27,
     "metadata": {},
     "output_type": "execute_result"
    }
   ],
   "source": [
    "inputs.shape"
   ]
  },
  {
   "cell_type": "code",
   "execution_count": 28,
   "metadata": {},
   "outputs": [
    {
     "data": {
      "text/plain": [
       "array([[[0.88348073, 0.88759858, 0.90718384, 0.88739089, 0.09525858],\n",
       "        [0.88552168, 0.88505247, 0.89216393, 0.88186139, 0.08293448],\n",
       "        [0.87949162, 0.91523319, 0.90821862, 0.91559753, 0.10459801],\n",
       "        ...,\n",
       "        [0.92893809, 0.93029249, 0.93120316, 0.91283278, 0.10270682],\n",
       "        [0.89687055, 0.9045209 , 0.91778245, 0.90581218, 0.06600341],\n",
       "        [0.895077  , 0.89474011, 0.8910978 , 0.87173434, 0.15793672]],\n",
       "\n",
       "       [[0.88552168, 0.88505247, 0.89216393, 0.88186139, 0.08293448],\n",
       "        [0.87949162, 0.91523319, 0.90821862, 0.91559753, 0.10459801],\n",
       "        [0.90716804, 0.92423772, 0.92298768, 0.90668199, 0.12230886],\n",
       "        ...,\n",
       "        [0.89687055, 0.9045209 , 0.91778245, 0.90581218, 0.06600341],\n",
       "        [0.895077  , 0.89474011, 0.8910978 , 0.87173434, 0.15793672],\n",
       "        [0.88289319, 0.91600944, 0.90799912, 0.91621882, 0.14783544]],\n",
       "\n",
       "       [[0.87949162, 0.91523319, 0.90821862, 0.91559753, 0.10459801],\n",
       "        [0.90716804, 0.92423772, 0.92298768, 0.90668199, 0.12230886],\n",
       "        [0.89820026, 0.91135192, 0.92762848, 0.91621882, 0.08331093],\n",
       "        ...,\n",
       "        [0.895077  , 0.89474011, 0.8910978 , 0.87173434, 0.15793672],\n",
       "        [0.88289319, 0.91600944, 0.90799912, 0.91621882, 0.14783544],\n",
       "        [0.91242501, 0.92131901, 0.93107773, 0.91857973, 0.09546473]],\n",
       "\n",
       "       ...,\n",
       "\n",
       "       [[0.93441153, 0.93845867, 0.93371171, 0.91124849, 0.21685041],\n",
       "        [0.89550993, 0.91557474, 0.90718384, 0.90835948, 0.21497714],\n",
       "        [0.88100686, 0.89123145, 0.86927346, 0.86204219, 0.16711482],\n",
       "        ...,\n",
       "        [1.01737893, 1.02862821, 1.03976043, 1.03342549, 0.13140629],\n",
       "        [1.04001484, 1.05927467, 1.06246276, 1.0700817 , 0.1332437 ],\n",
       "        [1.06534108, 1.06619884, 1.06857734, 1.05914697, 0.26584207]],\n",
       "\n",
       "       [[0.89550993, 0.91557474, 0.90718384, 0.90835948, 0.21497714],\n",
       "        [0.88100686, 0.89123145, 0.86927346, 0.86204219, 0.16711482],\n",
       "        [0.84714577, 0.85490281, 0.85541375, 0.84163275, 0.17346061],\n",
       "        ...,\n",
       "        [1.04001484, 1.05927467, 1.06246276, 1.0700817 , 0.1332437 ],\n",
       "        [1.06534108, 1.06619884, 1.06857734, 1.05914697, 0.26584207],\n",
       "        [1.05575484, 1.07846364, 1.04797592, 1.03168587, 0.26511607]],\n",
       "\n",
       "       [[0.88100686, 0.89123145, 0.86927346, 0.86204219, 0.16711482],\n",
       "        [0.84714577, 0.85490281, 0.85541375, 0.84163275, 0.17346061],\n",
       "        [0.7958439 , 0.85617587, 0.82885454, 0.84129104, 0.19063368],\n",
       "        ...,\n",
       "        [1.06534108, 1.06619884, 1.06857734, 1.05914697, 0.26584207],\n",
       "        [1.05575484, 1.07846364, 1.04797592, 1.03168587, 0.26511607],\n",
       "        [0.99375348, 0.99739179, 0.98325546, 0.96648131, 0.29028413]]])"
      ]
     },
     "execution_count": 28,
     "metadata": {},
     "output_type": "execute_result"
    }
   ],
   "source": [
    "X_test"
   ]
  },
  {
   "cell_type": "code",
   "execution_count": 29,
   "metadata": {},
   "outputs": [
    {
     "data": {
      "text/plain": [
       "(80, 5)"
      ]
     },
     "execution_count": 29,
     "metadata": {},
     "output_type": "execute_result"
    }
   ],
   "source": [
    "inputs.shape"
   ]
  },
  {
   "cell_type": "code",
   "execution_count": 30,
   "metadata": {},
   "outputs": [],
   "source": [
    "predicted_stock_price = regressor.predict(X_test)"
   ]
  },
  {
   "cell_type": "code",
   "execution_count": 31,
   "metadata": {},
   "outputs": [
    {
     "data": {
      "text/plain": [
       "(20, 1)"
      ]
     },
     "execution_count": 31,
     "metadata": {},
     "output_type": "execute_result"
    }
   ],
   "source": [
    "predicted_stock_price.shape"
   ]
  },
  {
   "cell_type": "code",
   "execution_count": 32,
   "metadata": {},
   "outputs": [
    {
     "data": {
      "text/plain": [
       "array([[0.9464894 ],\n",
       "       [0.94937354],\n",
       "       [0.951482  ],\n",
       "       [0.95295197],\n",
       "       [0.9540358 ],\n",
       "       [0.9550471 ],\n",
       "       [0.9562429 ],\n",
       "       [0.95777875],\n",
       "       [0.9597084 ],\n",
       "       [0.9620474 ],\n",
       "       [0.9647249 ],\n",
       "       [0.96763146],\n",
       "       [0.970653  ],\n",
       "       [0.9736803 ],\n",
       "       [0.9766757 ],\n",
       "       [0.9797284 ],\n",
       "       [0.9830141 ],\n",
       "       [0.9866732 ],\n",
       "       [0.9907225 ],\n",
       "       [0.99488455]], dtype=float32)"
      ]
     },
     "execution_count": 32,
     "metadata": {},
     "output_type": "execute_result"
    }
   ],
   "source": [
    "predicted_stock_price"
   ]
  },
  {
   "cell_type": "code",
   "execution_count": 33,
   "metadata": {},
   "outputs": [
    {
     "data": {
      "text/plain": [
       "0.94937354"
      ]
     },
     "execution_count": 33,
     "metadata": {},
     "output_type": "execute_result"
    }
   ],
   "source": [
    "predicted_stock_price[1][0]"
   ]
  },
  {
   "cell_type": "code",
   "execution_count": 34,
   "metadata": {},
   "outputs": [],
   "source": [
    "predicted_stock_price=np.reshape(predicted_stock_price, (4, 5) )"
   ]
  },
  {
   "cell_type": "code",
   "execution_count": 35,
   "metadata": {},
   "outputs": [],
   "source": [
    "predicted_stock_price = sc.inverse_transform(predicted_stock_price)"
   ]
  },
  {
   "cell_type": "code",
   "execution_count": 36,
   "metadata": {},
   "outputs": [
    {
     "data": {
      "text/plain": [
       "[799.37573, 802.1432, 805.2727, 810.12463]"
      ]
     },
     "execution_count": 36,
     "metadata": {},
     "output_type": "execute_result"
    }
   ],
   "source": [
    "prediction_open = []\n",
    "for i in predicted_stock_price:\n",
    "    prediction_open.append(i[0])\n",
    "prediction_open    \n",
    "    "
   ]
  },
  {
   "cell_type": "code",
   "execution_count": 37,
   "metadata": {},
   "outputs": [
    {
     "data": {
      "text/plain": [
       "array([[7.9937573e+02, 8.0037524e+02, 7.8966711e+02, 7.9796478e+02,\n",
       "        1.0652078e+07],\n",
       "       [8.0214319e+02, 8.0258759e+02, 7.9167523e+02, 8.0013971e+02,\n",
       "        1.0741463e+07],\n",
       "       [8.0527271e+02, 8.0625537e+02, 7.9578094e+02, 8.0463745e+02,\n",
       "        1.0904671e+07],\n",
       "       [8.1012463e+02, 8.1120947e+02, 8.0088995e+02, 8.1012354e+02,\n",
       "        1.1107827e+07]], dtype=float32)"
      ]
     },
     "execution_count": 37,
     "metadata": {},
     "output_type": "execute_result"
    }
   ],
   "source": [
    "predicted_stock_price"
   ]
  },
  {
   "cell_type": "code",
   "execution_count": 38,
   "metadata": {},
   "outputs": [
    {
     "data": {
      "text/plain": [
       "805.272705078125"
      ]
     },
     "execution_count": 38,
     "metadata": {},
     "output_type": "execute_result"
    }
   ],
   "source": [
    "#predicted_stock_price=np.reshape(predicted_stock_price, (20, 1) )\n",
    "float(predicted_stock_price[2][0])"
   ]
  },
  {
   "cell_type": "code",
   "execution_count": 39,
   "metadata": {},
   "outputs": [],
   "source": [
    "#predicted_stock_price = pd.to_numeric(predicted_stock_price)"
   ]
  },
  {
   "cell_type": "code",
   "execution_count": 40,
   "metadata": {},
   "outputs": [
    {
     "data": {
      "text/plain": [
       "array([[7.9937573e+02, 8.0037524e+02, 7.8966711e+02, 7.9796478e+02,\n",
       "        1.0652078e+07],\n",
       "       [8.0214319e+02, 8.0258759e+02, 7.9167523e+02, 8.0013971e+02,\n",
       "        1.0741463e+07],\n",
       "       [8.0527271e+02, 8.0625537e+02, 7.9578094e+02, 8.0463745e+02,\n",
       "        1.0904671e+07],\n",
       "       [8.1012463e+02, 8.1120947e+02, 8.0088995e+02, 8.1012354e+02,\n",
       "        1.1107827e+07]], dtype=float32)"
      ]
     },
     "execution_count": 40,
     "metadata": {},
     "output_type": "execute_result"
    }
   ],
   "source": [
    "predicted_stock_price"
   ]
  },
  {
   "cell_type": "code",
   "execution_count": 41,
   "metadata": {},
   "outputs": [
    {
     "data": {
      "text/plain": [
       "[<matplotlib.lines.Line2D at 0x1a354484e0>,\n",
       " <matplotlib.lines.Line2D at 0x1a35448630>,\n",
       " <matplotlib.lines.Line2D at 0x1a35448780>,\n",
       " <matplotlib.lines.Line2D at 0x1a354488d0>,\n",
       " <matplotlib.lines.Line2D at 0x1a35448a20>]"
      ]
     },
     "execution_count": 41,
     "metadata": {},
     "output_type": "execute_result"
    },
    {
     "data": {
      "image/png": "[encoded data removed]",
      "text/plain": [
       "<Figure size 432x288 with 1 Axes>"
      ]
     },
     "metadata": {
      "needs_background": "light"
     },
     "output_type": "display_data"
    }
   ],
   "source": [
    "plt.plot(predicted_stock_price, color = 'blue', label = 'Predicted Google Stock Price')"
   ]
  },
  {
   "cell_type": "code",
   "execution_count": 42,
   "metadata": {},
   "outputs": [
    {
     "data": {
      "text/plain": [
       "[<matplotlib.lines.Line2D at 0x1a3ee318d0>]"
      ]
     },
     "execution_count": 42,
     "metadata": {},
     "output_type": "execute_result"
    },
    {
     "data": {
      "image/png": "[encoded data removed]",
      "text/plain": [
       "<Figure size 432x288 with 1 Axes>"
      ]
     },
     "metadata": {
      "needs_background": "light"
     },
     "output_type": "display_data"
    }
   ],
   "source": [
    "plt.plot(real_stock_price, color = 'red', label = 'Real Google Stock Price')"
   ]
  },
  {
   "cell_type": "code",
   "execution_count": 43,
   "metadata": {},
   "outputs": [
    {
     "data": {
      "image/png": "[encoded data removed]",
      "text/plain": [
       "<Figure size 432x288 with 1 Axes>"
      ]
     },
     "metadata": {
      "needs_background": "light"
     },
     "output_type": "display_data"
    }
   ],
   "source": [
    "\n",
    "# Visualising the results\n",
    "plt.plot(real_stock_price, color = 'red', label = 'Real Google Stock Price')\n",
    "plt.plot(prediction_open , color = 'blue', label = 'Predicted Google Stock Price')\n",
    "plt.title('Google Stock Price Prediction')\n",
    "plt.xlabel('Time')\n",
    "plt.ylabel('Google Stock Price')\n",
    "plt.legend()\n",
    "plt.show()"
   ]
  },
  {
   "cell_type": "code",
   "execution_count": null,
   "metadata": {},
   "outputs": [],
   "source": []
  }
 ],
 "metadata": {
  "kernelspec": {
   "display_name": "Python 3",
   "language": "python",
   "name": "python3"
  },
  "language_info": {
   "codemirror_mode": {
    "name": "ipython",
    "version": 3
   },
   "file_extension": ".py",
   "mimetype": "text/x-python",
   "name": "python",
   "nbconvert_exporter": "python",
   "pygments_lexer": "ipython3",
   "version": "3.6.8"
  }
 },
 "nbformat": 4,
 "nbformat_minor": 2
}
